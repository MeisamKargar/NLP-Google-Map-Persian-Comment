{
 "cells": [
  {
   "cell_type": "markdown",
   "metadata": {},
   "source": [
    "### This code based on tf-idf and random forest"
   ]
  },
  {
   "cell_type": "markdown",
   "metadata": {},
   "source": [
    "### imports"
   ]
  },
  {
   "cell_type": "code",
   "execution_count": 1,
   "metadata": {},
   "outputs": [
    {
     "name": "stdout",
     "output_type": "stream",
     "text": [
      "Requirement already satisfied: nested_lookup in /home/amir/anaconda3/lib/python3.11/site-packages (0.2.25)\n",
      "Requirement already satisfied: six in /home/amir/anaconda3/lib/python3.11/site-packages (from nested_lookup) (1.16.0)\n",
      "Note: you may need to restart the kernel to use updated packages.\n"
     ]
    }
   ],
   "source": [
    "pip install nested_lookup"
   ]
  },
  {
   "cell_type": "code",
   "execution_count": 2,
   "metadata": {},
   "outputs": [],
   "source": [
    "import pandas as pd\n",
    "import re\n",
    "import os\n",
    "from nested_lookup import nested_lookup\n",
    "import json\n",
    "from sklearn.feature_extraction.text import TfidfVectorizer\n",
    "from sklearn.model_selection import train_test_split\n",
    "from sklearn.metrics import confusion_matrix, classification_report, accuracy_score"
   ]
  },
  {
   "cell_type": "code",
   "execution_count": 3,
   "metadata": {},
   "outputs": [],
   "source": [
    "import pandas as pd\n",
    "import numpy as np\n",
    "from tqdm import tqdm\n",
    "import re\n",
    "from urlextract import URLExtract\n",
    "import emojis\n",
    "from sklearn.feature_extraction.text import CountVectorizer\n",
    "from sklearn.feature_extraction.text import TfidfVectorizer\n",
    "from sklearn.linear_model import LogisticRegression\n",
    "from sklearn.ensemble import RandomForestClassifier\n",
    "import matplotlib.pyplot as plt"
   ]
  },
  {
   "cell_type": "markdown",
   "metadata": {},
   "source": [
    "### function"
   ]
  },
  {
   "cell_type": "code",
   "execution_count": 4,
   "metadata": {},
   "outputs": [],
   "source": [
    "stopwords = []\n",
    "file = open('stopwords.txt', encoding='utf-8').read()\n",
    "[stopwords.append(x) for x in file.split()]\n",
    "stopwords = set(stopwords)"
   ]
  },
  {
   "cell_type": "code",
   "execution_count": 5,
   "metadata": {},
   "outputs": [],
   "source": [
    "def remove_general_stopwords(text):\n",
    "    filtered_tokens = [token for token in text.split() if token not in stopwords]\n",
    "    filtered_text = ' '.join(filtered_tokens)\n",
    "    return filtered_text"
   ]
  },
  {
   "cell_type": "markdown",
   "metadata": {},
   "source": [
    "### vectorize"
   ]
  },
  {
   "cell_type": "code",
   "execution_count": 6,
   "metadata": {},
   "outputs": [],
   "source": [
    "def vectorize_tfidf(df_X):\n",
    "    tf_idf_vectorizer = TfidfVectorizer()\n",
    "    tf_idf_X = tf_idf_vectorizer.fit_transform(df_X)\n",
    "    tf_idf_df = pd.DataFrame(data=tf_idf_X.toarray(),columns=[tf_idf_vectorizer.get_feature_names_out()])\n",
    "    return tf_idf_df"
   ]
  },
  {
   "cell_type": "markdown",
   "metadata": {},
   "source": [
    "### train_test"
   ]
  },
  {
   "cell_type": "code",
   "execution_count": 7,
   "metadata": {},
   "outputs": [],
   "source": [
    "def split_data(X,y,test_size):\n",
    "    return train_test_split(X, y, test_size=test_size)"
   ]
  },
  {
   "cell_type": "markdown",
   "metadata": {},
   "source": [
    "### define and run model"
   ]
  },
  {
   "cell_type": "code",
   "execution_count": 8,
   "metadata": {},
   "outputs": [],
   "source": [
    "def define_and_run_model(model,X_train,X_test,y_train):\n",
    "    clf = model\n",
    "    clf.fit(X_train, y_train)\n",
    "    y_pred = clf.predict(X_test)\n",
    "    return y_pred"
   ]
  },
  {
   "cell_type": "markdown",
   "metadata": {},
   "source": [
    "### check the result"
   ]
  },
  {
   "cell_type": "code",
   "execution_count": 9,
   "metadata": {},
   "outputs": [],
   "source": [
    "def show_result(y_test,y_pred):\n",
    "    print(confusion_matrix(y_test,y_pred))\n",
    "    print(classification_report(y_test, y_pred, zero_division=0))\n",
    "    print(accuracy_score(y_test,y_pred))"
   ]
  },
  {
   "cell_type": "markdown",
   "metadata": {},
   "source": [
    "### loading data"
   ]
  },
  {
   "cell_type": "code",
   "execution_count": 28,
   "metadata": {},
   "outputs": [],
   "source": [
    "df = pd.read_csv('reviews.csv')"
   ]
  },
  {
   "cell_type": "markdown",
   "metadata": {},
   "source": [
    "### Create tag for data set\n",
    "* for star 0,1 and 2 I make label -1 this mean comment is negative\n",
    "* for star 3 I make label 0 this mean comment is neutral\n",
    "* for star 4,5 I make label 1 this mean comment is positive"
   ]
  },
  {
   "cell_type": "code",
   "execution_count": 40,
   "metadata": {},
   "outputs": [],
   "source": [
    "# Create a new column for labels\n",
    "df['label'] = ''\n",
    "\n",
    "# Set labels based on star ratings\n",
    "for index, row in df.iterrows():\n",
    "    star_rating = row['star']\n",
    "    if star_rating == 3:\n",
    "        df.at[index, 'label'] = 0\n",
    "    elif star_rating in [4, 5]:\n",
    "        df.at[index, 'label'] = 1\n",
    "    else:\n",
    "        df.at[index, 'label'] = -1\n"
   ]
  },
  {
   "cell_type": "code",
   "execution_count": 41,
   "metadata": {},
   "outputs": [],
   "source": [
    "df.rename(columns={'Unnamed: 0': 'Id'}, inplace = True)"
   ]
  },
  {
   "cell_type": "code",
   "execution_count": 13,
   "metadata": {},
   "outputs": [
    {
     "data": {
      "text/plain": [
       "star\n",
       "5.0    4669\n",
       "4.0    3260\n",
       "3.0    1007\n",
       "2.0     622\n",
       "1.0     430\n",
       "Name: count, dtype: int64"
      ]
     },
     "execution_count": 13,
     "metadata": {},
     "output_type": "execute_result"
    }
   ],
   "source": [
    "df[\"star\"].value_counts()"
   ]
  },
  {
   "cell_type": "markdown",
   "metadata": {},
   "source": [
    "### remove stopwords"
   ]
  },
  {
   "cell_type": "code",
   "execution_count": 47,
   "metadata": {},
   "outputs": [],
   "source": [
    "# Fill NaN values with an empty string in the 'Cleaned' column\n",
    "df['Cleaned'].fillna('', inplace=True)"
   ]
  },
  {
   "cell_type": "code",
   "execution_count": 48,
   "metadata": {
    "scrolled": true
   },
   "outputs": [],
   "source": [
    "df['review']=df['Cleaned'].apply(remove_general_stopwords)"
   ]
  },
  {
   "cell_type": "code",
   "execution_count": 49,
   "metadata": {},
   "outputs": [
    {
     "data": {
      "text/html": [
       "<div>\n",
       "<style scoped>\n",
       "    .dataframe tbody tr th:only-of-type {\n",
       "        vertical-align: middle;\n",
       "    }\n",
       "\n",
       "    .dataframe tbody tr th {\n",
       "        vertical-align: top;\n",
       "    }\n",
       "\n",
       "    .dataframe thead th {\n",
       "        text-align: right;\n",
       "    }\n",
       "</style>\n",
       "<table border=\"1\" class=\"dataframe\">\n",
       "  <thead>\n",
       "    <tr style=\"text-align: right;\">\n",
       "      <th></th>\n",
       "      <th>Id</th>\n",
       "      <th>title</th>\n",
       "      <th>star</th>\n",
       "      <th>review</th>\n",
       "      <th>Cleaned</th>\n",
       "      <th>label</th>\n",
       "    </tr>\n",
       "  </thead>\n",
       "  <tbody>\n",
       "    <tr>\n",
       "      <th>0</th>\n",
       "      <td>0</td>\n",
       "      <td>ali ghalambor</td>\n",
       "      <td>5.0</td>\n",
       "      <td>پل زیبا دوره صفویه پل کارکرد حساب آید می‌توانی...</td>\n",
       "      <td>یک پل زیبا از دوره صفویه که علاوه بر پل بودن ...</td>\n",
       "      <td>1</td>\n",
       "    </tr>\n",
       "    <tr>\n",
       "      <th>1</th>\n",
       "      <td>1</td>\n",
       "      <td>Shahrzad Rahimoghli</td>\n",
       "      <td>4.0</td>\n",
       "      <td>پل شاهکارهای معماری معروف ترین اماکن تاریخی اس...</td>\n",
       "      <td>سی و سه پل یکی از شاهکارهای معماری و از معروف ...</td>\n",
       "      <td>1</td>\n",
       "    </tr>\n",
       "    <tr>\n",
       "      <th>2</th>\n",
       "      <td>2</td>\n",
       "      <td>Alireza Fattahi</td>\n",
       "      <td>5.0</td>\n",
       "      <td>ی‌وسه‌پل پل الله‌وردی‌خان پلی 33 دهانه 295 14 ...</td>\n",
       "      <td>ی‌وسه‌پل یا پل الله‌وردی‌خان پلی است با 33 دها...</td>\n",
       "      <td>1</td>\n",
       "    </tr>\n",
       "    <tr>\n",
       "      <th>3</th>\n",
       "      <td>3</td>\n",
       "      <td>fatemeh momeni</td>\n",
       "      <td>5.0</td>\n",
       "      <td>وقت زاینده رود انقد آب نبوده میدون انقلاب برسی...</td>\n",
       "      <td>خیلی وقت بود زاینده رود انقد پر آب نبوده به می...</td>\n",
       "      <td>1</td>\n",
       "    </tr>\n",
       "    <tr>\n",
       "      <th>4</th>\n",
       "      <td>4</td>\n",
       "      <td>Naser Omrani</td>\n",
       "      <td>5.0</td>\n",
       "      <td>آب رودخانه نور پردازی زیبای ایرانیان هنرمند هس...</td>\n",
       "      <td>وقتی آب رودخانه جاری باشد با نور پردازی ای که ...</td>\n",
       "      <td>1</td>\n",
       "    </tr>\n",
       "  </tbody>\n",
       "</table>\n",
       "</div>"
      ],
      "text/plain": [
       "   Id                title  star  \\\n",
       "0   0        ali ghalambor   5.0   \n",
       "1   1  Shahrzad Rahimoghli   4.0   \n",
       "2   2      Alireza Fattahi   5.0   \n",
       "3   3       fatemeh momeni   5.0   \n",
       "4   4         Naser Omrani   5.0   \n",
       "\n",
       "                                              review  \\\n",
       "0  پل زیبا دوره صفویه پل کارکرد حساب آید می‌توانی...   \n",
       "1  پل شاهکارهای معماری معروف ترین اماکن تاریخی اس...   \n",
       "2  ی‌وسه‌پل پل الله‌وردی‌خان پلی 33 دهانه 295 14 ...   \n",
       "3  وقت زاینده رود انقد آب نبوده میدون انقلاب برسی...   \n",
       "4  آب رودخانه نور پردازی زیبای ایرانیان هنرمند هس...   \n",
       "\n",
       "                                             Cleaned label  \n",
       "0   یک پل زیبا از دوره صفویه که علاوه بر پل بودن ...     1  \n",
       "1  سی و سه پل یکی از شاهکارهای معماری و از معروف ...     1  \n",
       "2  ی‌وسه‌پل یا پل الله‌وردی‌خان پلی است با 33 دها...     1  \n",
       "3  خیلی وقت بود زاینده رود انقد پر آب نبوده به می...     1  \n",
       "4  وقتی آب رودخانه جاری باشد با نور پردازی ای که ...     1  "
      ]
     },
     "execution_count": 49,
     "metadata": {},
     "output_type": "execute_result"
    }
   ],
   "source": [
    "df.head()"
   ]
  },
  {
   "cell_type": "markdown",
   "metadata": {},
   "source": [
    "## Cleaning Data"
   ]
  },
  {
   "cell_type": "code",
   "execution_count": 50,
   "metadata": {},
   "outputs": [],
   "source": [
    "def _multiple_replace(mapping, text):\n",
    "    pattern = \"|\".join(map(re.escape, mapping.keys()))\n",
    "    return re.sub(pattern, lambda m: mapping[m.group()], str(text))\n",
    "\n",
    "def convert_fa_numbers(input_str):\n",
    "    mapping = {\n",
    "        '۰': '0',\n",
    "        '۱': '1',\n",
    "        '۲': '2',\n",
    "        '۳': '3',\n",
    "        '۴': '4',\n",
    "        '۵': '5',\n",
    "        '۶': '6',\n",
    "        '۷': '7',\n",
    "        '۸': '8',\n",
    "        '۹': '9',\n",
    "        '.': '.',\n",
    "    }\n",
    "    return _multiple_replace(mapping, input_str)\n",
    "\n",
    "\n",
    "def convert_ar_characters(input_str):\n",
    "    \"\"\"\n",
    "    Converts Arabic chars to related Persian unicode char\n",
    "    :param input_str: String contains Arabic chars\n",
    "    :return: New str with converted arabic chars\n",
    "    \"\"\"\n",
    "    mapping = {\n",
    "        'ك': 'ک',\n",
    "        'ى': 'ی',\n",
    "        'ي': 'ی',\n",
    "        'ئ':'ی',\n",
    "        'إ':'ا',\n",
    "        'أ':'ا',\n",
    "        'ة':'ه',\n",
    "        'ؤ':'و'\n",
    "    }\n",
    "    return _multiple_replace(mapping, input_str)\n",
    "\n",
    "\n",
    "def preprocess(text):\n",
    "    extractor = URLExtract()\n",
    "    text = str(text)\n",
    "    for url in extractor.gen_urls(text):\n",
    "        text = text.replace(url,'<URL>')\n",
    "    emj = emojis.get(text)\n",
    "    for i in emj:\n",
    "        if i in text:\n",
    "            text = text.replace(i,'<emoji>')\n",
    "    text = convert_fa_numbers(text)\n",
    "    text = convert_ar_characters(text)\n",
    "    # regex to detect and replace all smilies in the text with <smiley>\n",
    "    text = re.sub(r\"(:\\s?\\)|:-\\)|\\(\\s?:|\\(-:|:\\'\\)|:\\s?D|8-\\)|:\\s?\\||;\\s?\\)|:-\\*|:-\\||:-\\(|:\\s?P|:-P|:-p|:-b|:-O|:-o|:-0|:-\\@|:\\$|:-\\^|:-&|:-\\*|:-\\+|:-\\~|:-\\`|:-\\>|:-\\<|:-\\}|:-\\{|\\[:\\s?\\]|\\[:\\s?\\]|:\\s?\\]|:\\s?\\[|:\\s?\\}|:\\s?\\{)\",'<smiley>',text)\n",
    "    text = text.lower() # we lowercase here to prevent changes in the URLs and smilies\n",
    "    text = text.strip()\n",
    "    text = re.sub(r'[<>#.:()\"\\'!?؟،,@$%^&*_+\\[\\]/]', ' ', text)\n",
    "    text = re.sub(r'[\\s]{2,}', ' ', text)\n",
    "    text = re.sub(r'(\\w)\\1{2,}', r'\\1',text)\n",
    "    if re.search(r'[\\u0600-\\u06FF]', text):\n",
    "        return text\n",
    "    else:\n",
    "        return 'None'"
   ]
  },
  {
   "cell_type": "code",
   "execution_count": 51,
   "metadata": {},
   "outputs": [],
   "source": [
    "tqdm.pandas()"
   ]
  },
  {
   "cell_type": "code",
   "execution_count": 52,
   "metadata": {},
   "outputs": [
    {
     "name": "stderr",
     "output_type": "stream",
     "text": [
      "100%|██████████████████████████████████████| 2143/2143 [00:21<00:00, 100.77it/s]\n"
     ]
    }
   ],
   "source": [
    "df['Cleaned'] = df['review'].progress_apply(preprocess)"
   ]
  },
  {
   "cell_type": "code",
   "execution_count": 53,
   "metadata": {},
   "outputs": [],
   "source": [
    "df['star'].fillna(0, inplace=True)\n",
    "df.replace([np.inf, -np.inf], np.nan, inplace=True)\n",
    "df['star'] = df['star'].astype(int)"
   ]
  },
  {
   "cell_type": "code",
   "execution_count": 54,
   "metadata": {},
   "outputs": [],
   "source": [
    "df = df.dropna()"
   ]
  },
  {
   "cell_type": "code",
   "execution_count": 55,
   "metadata": {
    "scrolled": true
   },
   "outputs": [
    {
     "data": {
      "text/html": [
       "<div>\n",
       "<style scoped>\n",
       "    .dataframe tbody tr th:only-of-type {\n",
       "        vertical-align: middle;\n",
       "    }\n",
       "\n",
       "    .dataframe tbody tr th {\n",
       "        vertical-align: top;\n",
       "    }\n",
       "\n",
       "    .dataframe thead th {\n",
       "        text-align: right;\n",
       "    }\n",
       "</style>\n",
       "<table border=\"1\" class=\"dataframe\">\n",
       "  <thead>\n",
       "    <tr style=\"text-align: right;\">\n",
       "      <th></th>\n",
       "      <th>Id</th>\n",
       "      <th>title</th>\n",
       "      <th>star</th>\n",
       "      <th>review</th>\n",
       "      <th>Cleaned</th>\n",
       "      <th>label</th>\n",
       "    </tr>\n",
       "  </thead>\n",
       "  <tbody>\n",
       "    <tr>\n",
       "      <th>2138</th>\n",
       "      <td>2267</td>\n",
       "      <td>فاطمه دهقان</td>\n",
       "      <td>5</td>\n",
       "      <td>nice but no interest management original زیباس...</td>\n",
       "      <td>nice but no interest management original زیباس...</td>\n",
       "      <td>1</td>\n",
       "    </tr>\n",
       "    <tr>\n",
       "      <th>2139</th>\n",
       "      <td>2268</td>\n",
       "      <td>وحید سهرابی</td>\n",
       "      <td>3</td>\n",
       "      <td>do not go there in the busy season original فص...</td>\n",
       "      <td>do not go there in the busy season original فص...</td>\n",
       "      <td>0</td>\n",
       "    </tr>\n",
       "    <tr>\n",
       "      <th>2140</th>\n",
       "      <td>2269</td>\n",
       "      <td>محمدعلی بلوچ</td>\n",
       "      <td>5</td>\n",
       "      <td>great place original</td>\n",
       "      <td>None</td>\n",
       "      <td>1</td>\n",
       "    </tr>\n",
       "    <tr>\n",
       "      <th>2141</th>\n",
       "      <td>2270</td>\n",
       "      <td>رادف عدلی</td>\n",
       "      <td>5</td>\n",
       "      <td>مکان خنک خنک فضای دلنشین رودخانه…</td>\n",
       "      <td>مکان خنک خنک فضای دلنشین رودخانه…</td>\n",
       "      <td>1</td>\n",
       "    </tr>\n",
       "    <tr>\n",
       "      <th>2142</th>\n",
       "      <td>2271</td>\n",
       "      <td>امین اس</td>\n",
       "      <td>5</td>\n",
       "      <td>مکان دنج سرسبز خنک تفریح اصلی …</td>\n",
       "      <td>مکان دنج سرسبز خنک تفریح اصلی …</td>\n",
       "      <td>1</td>\n",
       "    </tr>\n",
       "  </tbody>\n",
       "</table>\n",
       "</div>"
      ],
      "text/plain": [
       "        Id          title  star  \\\n",
       "2138  2267    فاطمه دهقان     5   \n",
       "2139  2268    وحید سهرابی     3   \n",
       "2140  2269   محمدعلی بلوچ     5   \n",
       "2141  2270      رادف عدلی     5   \n",
       "2142  2271        امین اس     5   \n",
       "\n",
       "                                                 review  \\\n",
       "2138  nice but no interest management original زیباس...   \n",
       "2139  do not go there in the busy season original فص...   \n",
       "2140                               great place original   \n",
       "2141                  مکان خنک خنک فضای دلنشین رودخانه…   \n",
       "2142                    مکان دنج سرسبز خنک تفریح اصلی …   \n",
       "\n",
       "                                                Cleaned  label  \n",
       "2138  nice but no interest management original زیباس...      1  \n",
       "2139  do not go there in the busy season original فص...      0  \n",
       "2140                                               None      1  \n",
       "2141                  مکان خنک خنک فضای دلنشین رودخانه…      1  \n",
       "2142                    مکان دنج سرسبز خنک تفریح اصلی …      1  "
      ]
     },
     "execution_count": 55,
     "metadata": {},
     "output_type": "execute_result"
    }
   ],
   "source": [
    "df.tail()"
   ]
  },
  {
   "cell_type": "code",
   "execution_count": 56,
   "metadata": {},
   "outputs": [
    {
     "name": "stdout",
     "output_type": "stream",
     "text": [
      "<class 'pandas.core.frame.DataFrame'>\n",
      "RangeIndex: 2143 entries, 0 to 2142\n",
      "Data columns (total 6 columns):\n",
      " #   Column   Non-Null Count  Dtype \n",
      "---  ------   --------------  ----- \n",
      " 0   Id       2143 non-null   int64 \n",
      " 1   title    2143 non-null   object\n",
      " 2   star     2143 non-null   int64 \n",
      " 3   review   2143 non-null   object\n",
      " 4   Cleaned  2143 non-null   object\n",
      " 5   label    2143 non-null   int64 \n",
      "dtypes: int64(3), object(3)\n",
      "memory usage: 100.6+ KB\n"
     ]
    }
   ],
   "source": [
    "df.info()"
   ]
  },
  {
   "cell_type": "code",
   "execution_count": 57,
   "metadata": {},
   "outputs": [],
   "source": [
    "tf_idf_df = vectorize_tfidf(df['review'])\n",
    "X_train, X_test, y_train, y_test = split_data(tf_idf_df,df['star'],.8)"
   ]
  },
  {
   "cell_type": "markdown",
   "metadata": {},
   "source": [
    "### run"
   ]
  },
  {
   "cell_type": "code",
   "execution_count": 58,
   "metadata": {},
   "outputs": [
    {
     "name": "stdout",
     "output_type": "stream",
     "text": [
      "[[  0   0   0   0   0   1]\n",
      " [  0   0   0   0   0  96]\n",
      " [  0   0   0   0   0  87]\n",
      " [  0   0   0   0   0 235]\n",
      " [  0   0   0   0   0 481]\n",
      " [  0   0   0   0   0 815]]\n",
      "              precision    recall  f1-score   support\n",
      "\n",
      "           0       0.00      0.00      0.00         1\n",
      "           1       0.00      0.00      0.00        96\n",
      "           2       0.00      0.00      0.00        87\n",
      "           3       0.00      0.00      0.00       235\n",
      "           4       0.00      0.00      0.00       481\n",
      "           5       0.48      1.00      0.64       815\n",
      "\n",
      "    accuracy                           0.48      1715\n",
      "   macro avg       0.08      0.17      0.11      1715\n",
      "weighted avg       0.23      0.48      0.31      1715\n",
      "\n",
      "0.4752186588921283\n"
     ]
    }
   ],
   "source": [
    "from sklearn.svm import SVC\n",
    "clf = SVC(gamma='auto')\n",
    "y_pred = define_and_run_model(clf, X_train, X_test, y_train)\n",
    "show_result(y_test,y_pred)"
   ]
  },
  {
   "cell_type": "markdown",
   "metadata": {},
   "source": [
    "### handle imbalancde data with random forest"
   ]
  },
  {
   "cell_type": "code",
   "execution_count": 59,
   "metadata": {},
   "outputs": [],
   "source": [
    "from sklearn.ensemble import RandomForestClassifier"
   ]
  },
  {
   "cell_type": "code",
   "execution_count": 60,
   "metadata": {},
   "outputs": [
    {
     "name": "stdout",
     "output_type": "stream",
     "text": [
      "[[  0   0   0   0   0   0]\n",
      " [  0   2   0   0   0   1]\n",
      " [  0   3   0   1   1   3]\n",
      " [  0   3   1   0   3   2]\n",
      " [  0   6   3  22  37  59]\n",
      " [  1  82  83 212 440 750]]\n",
      "              precision    recall  f1-score   support\n",
      "\n",
      "           0       0.00      0.00      0.00         0\n",
      "           1       0.02      0.67      0.04         3\n",
      "           2       0.00      0.00      0.00         8\n",
      "           3       0.00      0.00      0.00         9\n",
      "           4       0.08      0.29      0.12       127\n",
      "           5       0.92      0.48      0.63      1568\n",
      "\n",
      "    accuracy                           0.46      1715\n",
      "   macro avg       0.17      0.24      0.13      1715\n",
      "weighted avg       0.85      0.46      0.58      1715\n",
      "\n",
      "0.46005830903790085\n"
     ]
    }
   ],
   "source": [
    "rfc = RandomForestClassifier(n_estimators=100).fit(X_train, y_train)\n",
    "rfc_pred = rfc.predict(X_test)\n",
    "show_result(rfc_pred, y_test)"
   ]
  },
  {
   "cell_type": "code",
   "execution_count": 61,
   "metadata": {},
   "outputs": [
    {
     "data": {
      "image/png": "[encoded data removed]",
      "text/plain": [
       "<Figure size 500x300 with 1 Axes>"
      ]
     },
     "metadata": {},
     "output_type": "display_data"
    }
   ],
   "source": [
    "df.star.hist(bins=5, grid=False, figsize=(5,3))\n",
    "plt.title('Star Histogram')\n",
    "plt.xlabel('Count of Star')\n",
    "plt.ylabel('Count of review')\n",
    "\n",
    "plt.show()"
   ]
  },
  {
   "cell_type": "code",
   "execution_count": 62,
   "metadata": {},
   "outputs": [],
   "source": [
    "df.to_csv('processed_reviews.csv', index=False)"
   ]
  },
  {
   "cell_type": "code",
   "execution_count": null,
   "metadata": {},
   "outputs": [],
   "source": []
  }
 ],
 "metadata": {
  "kernelspec": {
   "display_name": "Python 3 (ipykernel)",
   "language": "python",
   "name": "python3"
  },
  "language_info": {
   "codemirror_mode": {
    "name": "ipython",
    "version": 3
   },
   "file_extension": ".py",
   "mimetype": "text/x-python",
   "name": "python",
   "nbconvert_exporter": "python",
   "pygments_lexer": "ipython3",
   "version": "3.11.5"
  }
 },
 "nbformat": 4,
 "nbformat_minor": 2
}
